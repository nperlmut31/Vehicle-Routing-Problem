{
 "cells": [
  {
   "cell_type": "code",
   "execution_count": 3,
   "metadata": {},
   "outputs": [],
   "source": [
    "import numpy as np\n",
    "import torch"
   ]
  },
  {
   "cell_type": "code",
   "execution_count": 6,
   "metadata": {},
   "outputs": [
    {
     "data": {
      "text/plain": [
       "[array([0.01560026, 0.14899027, 0.8198149 ], dtype=float32),\n",
       " array([0.9768128 , 0.06915247, 0.42297667], dtype=float32),\n",
       " array([0.9447805 , 0.9968865 , 0.85253155], dtype=float32),\n",
       " array([0.4674251, 0.9449542, 0.6850118], dtype=float32),\n",
       " array([0.8488321 , 0.9191937 , 0.33687925], dtype=float32)]"
      ]
     },
     "execution_count": 6,
     "metadata": {},
     "output_type": "execute_result"
    }
   ],
   "source": [
    "torch.rand(5, 3).numpy()"
   ]
  },
  {
   "cell_type": "code",
   "execution_count": 7,
   "metadata": {},
   "outputs": [],
   "source": [
    "x = torch.rand(5, 3).numpy()"
   ]
  },
  {
   "cell_type": "code",
   "execution_count": 8,
   "metadata": {},
   "outputs": [
    {
     "data": {
      "text/plain": [
       "[[0.6611388, 0.24161768, 0.35973948],\n",
       " [0.28449154, 0.81414443, 0.17932409],\n",
       " [0.65817285, 0.1036877, 0.8726997],\n",
       " [0.05815494, 0.3649323, 0.6273505],\n",
       " [0.57139295, 0.16107935, 0.08857018]]"
      ]
     },
     "execution_count": 8,
     "metadata": {},
     "output_type": "execute_result"
    }
   ],
   "source": [
    "[list(x[i]) for i in range(x.shape[0])]"
   ]
  },
  {
   "cell_type": "code",
   "execution_count": null,
   "metadata": {},
   "outputs": [],
   "source": []
  }
 ],
 "metadata": {
  "kernelspec": {
   "display_name": "Python 3",
   "language": "python",
   "name": "python3"
  },
  "language_info": {
   "codemirror_mode": {
    "name": "ipython",
    "version": 3
   },
   "file_extension": ".py",
   "mimetype": "text/x-python",
   "name": "python",
   "nbconvert_exporter": "python",
   "pygments_lexer": "ipython3",
   "version": "3.7.3"
  }
 },
 "nbformat": 4,
 "nbformat_minor": 2
}
